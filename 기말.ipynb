{
  "nbformat": 4,
  "nbformat_minor": 0,
  "metadata": {
    "colab": {
      "name": "기말",
      "provenance": [],
      "collapsed_sections": [],
      "toc_visible": true
    },
    "kernelspec": {
      "name": "python3",
      "display_name": "Python 3"
    },
    "language_info": {
      "name": "python"
    }
  },
  "cells": [
    {
      "cell_type": "markdown",
      "metadata": {
        "id": "F4xAs1b-VwkY"
      },
      "source": [
        "# **2021-1 인공지능 기말고사 대체 보고서**\n",
        "*학번 & 이름: 2018320160 방주영*"
      ]
    },
    {
      "cell_type": "markdown",
      "metadata": {
        "id": "C5F5YLBopskf"
      },
      "source": [
        "##실험 전체 요약\n",
        "이 실험은 decission tree, logistic regression, mlp 총 세가지의 모델을 사용하여 titanic 데이터셋의 survival을 예측하는 모델을 만들며 이 세 모델의 parameter 설정에 변화를 주어 각각 모델의 최적의 parameter을 찾는 실험이다.\n",
        "따라서 이 실험은 우선 이 세 모델의 default parameter setting들을 이용하여 기본 모델을 만들어 training, 5-fold cross validation을 진행하고, 각 모델의 parameter 설정에 다양한 변화를 준 sub-model들을 만들어 그 들의 training, 5-fold cross validation의 결과 값과 비교를 하는 형태로 진행 될 것이다."
      ]
    },
    {
      "cell_type": "markdown",
      "metadata": {
        "id": "8ke8Ey7Bq2cD"
      },
      "source": [
        "##EDA - explanatory data analysis\n",
        "사용 데이터: https://raw.githubusercontent.com/inikoreaackr/datasets/main/titanic.csv\n",
        "\n",
        "원 출처: https://www.kaggle.com/c/titanic\n",
        "\n"
      ]
    },
    {
      "cell_type": "code",
      "metadata": {
        "id": "HSfK8Fnc4vHx"
      },
      "source": [
        "import numpy as np\n",
        "import pandas as pd\n",
        "import seaborn as sns\n",
        "import matplotlib.pyplot as plt\n",
        "\n",
        "url = \"https://raw.githubusercontent.com/inikoreaackr/datasets/main/titanic.csv\"\n",
        "df = pd.read_csv(url)"
      ],
      "execution_count": 133,
      "outputs": []
    },
    {
      "cell_type": "markdown",
      "metadata": {
        "id": "WZkfc20-smv7"
      },
      "source": [
        "데이터에는 총 8개의 column이 존재하며 그들은 ['Survived', 'Pclass', 'Age', 'SibSp', 'Parch', 'Fare', 'Sex_female', 'Sex_male'] 이다.\n",
        "\n",
        "각 feature의 의미와 분류 목적은 아래와 같다.\n",
        "1.   Survival (float64) : 생존 여부 (0이면 사망 1이면 생존)\n",
        "2.   PClass (int64) : 티켓 등급 (1 = 1등급, 2 = 2등급, 3 = 3등급)\n",
        "3.   Age (float64) : 나이\n",
        "4.   SibSp (int64) : 함께 탑승한 형제/배우자의 수\n",
        "5.   Parch (int64) : 함께 탑승한 자녀/부모의 수\n",
        "6.   Fare (float64) : 요금\n",
        "7.   Sex_female (int64) : 성별 여부 (0이면 남자 1이면 여자)\n",
        "8.   Sex_male (int64) : 성별 여부 (0이면 여자 1이면 남자)\n",
        "\n",
        "밑의 *df.info()*의 결과값에서 보이듯이 총 instance 갯수는 모두 714이며 null value는 없다."
      ]
    },
    {
      "cell_type": "code",
      "metadata": {
        "colab": {
          "base_uri": "https://localhost:8080/"
        },
        "id": "OF3Paaonscc_",
        "outputId": "6dfdb9dc-bb0c-4bee-9b15-8a09210c0f9f"
      },
      "source": [
        "df.info()"
      ],
      "execution_count": 134,
      "outputs": [
        {
          "output_type": "stream",
          "text": [
            "<class 'pandas.core.frame.DataFrame'>\n",
            "RangeIndex: 714 entries, 0 to 713\n",
            "Data columns (total 8 columns):\n",
            " #   Column      Non-Null Count  Dtype  \n",
            "---  ------      --------------  -----  \n",
            " 0   Survived    714 non-null    float64\n",
            " 1   Pclass      714 non-null    int64  \n",
            " 2   Age         714 non-null    float64\n",
            " 3   SibSp       714 non-null    int64  \n",
            " 4   Parch       714 non-null    int64  \n",
            " 5   Fare        714 non-null    float64\n",
            " 6   Sex_female  714 non-null    int64  \n",
            " 7   Sex_male    714 non-null    int64  \n",
            "dtypes: float64(3), int64(5)\n",
            "memory usage: 44.8 KB\n"
          ],
          "name": "stdout"
        }
      ]
    },
    {
      "cell_type": "markdown",
      "metadata": {
        "id": "Ld-1Kx9Fus4u"
      },
      "source": [
        "아래 *df.head()*은 5개의 instance들을 예제로 보여주고 있다."
      ]
    },
    {
      "cell_type": "code",
      "metadata": {
        "colab": {
          "base_uri": "https://localhost:8080/",
          "height": 203
        },
        "id": "Yc9BDALXseqi",
        "outputId": "c960e340-fb70-413e-f974-3ba928f85dbf"
      },
      "source": [
        "df.head()"
      ],
      "execution_count": 135,
      "outputs": [
        {
          "output_type": "execute_result",
          "data": {
            "text/html": [
              "<div>\n",
              "<style scoped>\n",
              "    .dataframe tbody tr th:only-of-type {\n",
              "        vertical-align: middle;\n",
              "    }\n",
              "\n",
              "    .dataframe tbody tr th {\n",
              "        vertical-align: top;\n",
              "    }\n",
              "\n",
              "    .dataframe thead th {\n",
              "        text-align: right;\n",
              "    }\n",
              "</style>\n",
              "<table border=\"1\" class=\"dataframe\">\n",
              "  <thead>\n",
              "    <tr style=\"text-align: right;\">\n",
              "      <th></th>\n",
              "      <th>Survived</th>\n",
              "      <th>Pclass</th>\n",
              "      <th>Age</th>\n",
              "      <th>SibSp</th>\n",
              "      <th>Parch</th>\n",
              "      <th>Fare</th>\n",
              "      <th>Sex_female</th>\n",
              "      <th>Sex_male</th>\n",
              "    </tr>\n",
              "  </thead>\n",
              "  <tbody>\n",
              "    <tr>\n",
              "      <th>0</th>\n",
              "      <td>0.0</td>\n",
              "      <td>3</td>\n",
              "      <td>22.0</td>\n",
              "      <td>1</td>\n",
              "      <td>0</td>\n",
              "      <td>7.2500</td>\n",
              "      <td>0</td>\n",
              "      <td>1</td>\n",
              "    </tr>\n",
              "    <tr>\n",
              "      <th>1</th>\n",
              "      <td>1.0</td>\n",
              "      <td>1</td>\n",
              "      <td>38.0</td>\n",
              "      <td>1</td>\n",
              "      <td>0</td>\n",
              "      <td>71.2833</td>\n",
              "      <td>1</td>\n",
              "      <td>0</td>\n",
              "    </tr>\n",
              "    <tr>\n",
              "      <th>2</th>\n",
              "      <td>1.0</td>\n",
              "      <td>3</td>\n",
              "      <td>26.0</td>\n",
              "      <td>0</td>\n",
              "      <td>0</td>\n",
              "      <td>7.9250</td>\n",
              "      <td>1</td>\n",
              "      <td>0</td>\n",
              "    </tr>\n",
              "    <tr>\n",
              "      <th>3</th>\n",
              "      <td>1.0</td>\n",
              "      <td>1</td>\n",
              "      <td>35.0</td>\n",
              "      <td>1</td>\n",
              "      <td>0</td>\n",
              "      <td>53.1000</td>\n",
              "      <td>1</td>\n",
              "      <td>0</td>\n",
              "    </tr>\n",
              "    <tr>\n",
              "      <th>4</th>\n",
              "      <td>0.0</td>\n",
              "      <td>3</td>\n",
              "      <td>35.0</td>\n",
              "      <td>0</td>\n",
              "      <td>0</td>\n",
              "      <td>8.0500</td>\n",
              "      <td>0</td>\n",
              "      <td>1</td>\n",
              "    </tr>\n",
              "  </tbody>\n",
              "</table>\n",
              "</div>"
            ],
            "text/plain": [
              "   Survived  Pclass   Age  SibSp  Parch     Fare  Sex_female  Sex_male\n",
              "0       0.0       3  22.0      1      0   7.2500           0         1\n",
              "1       1.0       1  38.0      1      0  71.2833           1         0\n",
              "2       1.0       3  26.0      0      0   7.9250           1         0\n",
              "3       1.0       1  35.0      1      0  53.1000           1         0\n",
              "4       0.0       3  35.0      0      0   8.0500           0         1"
            ]
          },
          "metadata": {
            "tags": []
          },
          "execution_count": 135
        }
      ]
    },
    {
      "cell_type": "markdown",
      "metadata": {
        "id": "o0mJVlH4u6dd"
      },
      "source": [
        "아래 *df.describe()*은 각 8개의 feature들의 통계들을 보여주고 있다."
      ]
    },
    {
      "cell_type": "code",
      "metadata": {
        "colab": {
          "base_uri": "https://localhost:8080/",
          "height": 295
        },
        "id": "u6A_rDE7sgV2",
        "outputId": "93b28055-99cf-4575-bcf7-4e00e0271303"
      },
      "source": [
        "df.describe()"
      ],
      "execution_count": 136,
      "outputs": [
        {
          "output_type": "execute_result",
          "data": {
            "text/html": [
              "<div>\n",
              "<style scoped>\n",
              "    .dataframe tbody tr th:only-of-type {\n",
              "        vertical-align: middle;\n",
              "    }\n",
              "\n",
              "    .dataframe tbody tr th {\n",
              "        vertical-align: top;\n",
              "    }\n",
              "\n",
              "    .dataframe thead th {\n",
              "        text-align: right;\n",
              "    }\n",
              "</style>\n",
              "<table border=\"1\" class=\"dataframe\">\n",
              "  <thead>\n",
              "    <tr style=\"text-align: right;\">\n",
              "      <th></th>\n",
              "      <th>Survived</th>\n",
              "      <th>Pclass</th>\n",
              "      <th>Age</th>\n",
              "      <th>SibSp</th>\n",
              "      <th>Parch</th>\n",
              "      <th>Fare</th>\n",
              "      <th>Sex_female</th>\n",
              "      <th>Sex_male</th>\n",
              "    </tr>\n",
              "  </thead>\n",
              "  <tbody>\n",
              "    <tr>\n",
              "      <th>count</th>\n",
              "      <td>714.000000</td>\n",
              "      <td>714.000000</td>\n",
              "      <td>714.000000</td>\n",
              "      <td>714.000000</td>\n",
              "      <td>714.000000</td>\n",
              "      <td>714.000000</td>\n",
              "      <td>714.000000</td>\n",
              "      <td>714.000000</td>\n",
              "    </tr>\n",
              "    <tr>\n",
              "      <th>mean</th>\n",
              "      <td>0.406162</td>\n",
              "      <td>2.236695</td>\n",
              "      <td>29.699118</td>\n",
              "      <td>0.512605</td>\n",
              "      <td>0.431373</td>\n",
              "      <td>34.694514</td>\n",
              "      <td>0.365546</td>\n",
              "      <td>0.634454</td>\n",
              "    </tr>\n",
              "    <tr>\n",
              "      <th>std</th>\n",
              "      <td>0.491460</td>\n",
              "      <td>0.838250</td>\n",
              "      <td>14.526497</td>\n",
              "      <td>0.929783</td>\n",
              "      <td>0.853289</td>\n",
              "      <td>52.918930</td>\n",
              "      <td>0.481921</td>\n",
              "      <td>0.481921</td>\n",
              "    </tr>\n",
              "    <tr>\n",
              "      <th>min</th>\n",
              "      <td>0.000000</td>\n",
              "      <td>1.000000</td>\n",
              "      <td>0.420000</td>\n",
              "      <td>0.000000</td>\n",
              "      <td>0.000000</td>\n",
              "      <td>0.000000</td>\n",
              "      <td>0.000000</td>\n",
              "      <td>0.000000</td>\n",
              "    </tr>\n",
              "    <tr>\n",
              "      <th>25%</th>\n",
              "      <td>0.000000</td>\n",
              "      <td>1.000000</td>\n",
              "      <td>20.125000</td>\n",
              "      <td>0.000000</td>\n",
              "      <td>0.000000</td>\n",
              "      <td>8.050000</td>\n",
              "      <td>0.000000</td>\n",
              "      <td>0.000000</td>\n",
              "    </tr>\n",
              "    <tr>\n",
              "      <th>50%</th>\n",
              "      <td>0.000000</td>\n",
              "      <td>2.000000</td>\n",
              "      <td>28.000000</td>\n",
              "      <td>0.000000</td>\n",
              "      <td>0.000000</td>\n",
              "      <td>15.741700</td>\n",
              "      <td>0.000000</td>\n",
              "      <td>1.000000</td>\n",
              "    </tr>\n",
              "    <tr>\n",
              "      <th>75%</th>\n",
              "      <td>1.000000</td>\n",
              "      <td>3.000000</td>\n",
              "      <td>38.000000</td>\n",
              "      <td>1.000000</td>\n",
              "      <td>1.000000</td>\n",
              "      <td>33.375000</td>\n",
              "      <td>1.000000</td>\n",
              "      <td>1.000000</td>\n",
              "    </tr>\n",
              "    <tr>\n",
              "      <th>max</th>\n",
              "      <td>1.000000</td>\n",
              "      <td>3.000000</td>\n",
              "      <td>80.000000</td>\n",
              "      <td>5.000000</td>\n",
              "      <td>6.000000</td>\n",
              "      <td>512.329200</td>\n",
              "      <td>1.000000</td>\n",
              "      <td>1.000000</td>\n",
              "    </tr>\n",
              "  </tbody>\n",
              "</table>\n",
              "</div>"
            ],
            "text/plain": [
              "         Survived      Pclass         Age  ...        Fare  Sex_female    Sex_male\n",
              "count  714.000000  714.000000  714.000000  ...  714.000000  714.000000  714.000000\n",
              "mean     0.406162    2.236695   29.699118  ...   34.694514    0.365546    0.634454\n",
              "std      0.491460    0.838250   14.526497  ...   52.918930    0.481921    0.481921\n",
              "min      0.000000    1.000000    0.420000  ...    0.000000    0.000000    0.000000\n",
              "25%      0.000000    1.000000   20.125000  ...    8.050000    0.000000    0.000000\n",
              "50%      0.000000    2.000000   28.000000  ...   15.741700    0.000000    1.000000\n",
              "75%      1.000000    3.000000   38.000000  ...   33.375000    1.000000    1.000000\n",
              "max      1.000000    3.000000   80.000000  ...  512.329200    1.000000    1.000000\n",
              "\n",
              "[8 rows x 8 columns]"
            ]
          },
          "metadata": {
            "tags": []
          },
          "execution_count": 136
        }
      ]
    },
    {
      "cell_type": "markdown",
      "metadata": {
        "id": "eyeiUL2BwNFn"
      },
      "source": [
        "아래의 그래프들은 8개의 feature 중 survived를 제외한 나머지 feature들의 분포도를 그래프로 나타내고있으며 hue='Survived'로 맞춤으로 인해 각 feature들과 생존률의 관계를 간접적으로 보여주고있다."
      ]
    },
    {
      "cell_type": "code",
      "metadata": {
        "colab": {
          "base_uri": "https://localhost:8080/",
          "height": 1000
        },
        "id": "vXfYEXRIvkzS",
        "outputId": "b0d74589-77f3-415b-f801-d87c8f119386"
      },
      "source": [
        "sns.displot(df, x=\"Pclass\", hue='Survived')\n",
        "sns.displot(df, x=\"Age\", hue='Survived')\n",
        "sns.displot(df, x=\"SibSp\", hue='Survived')\n",
        "sns.displot(df, x=\"Parch\", hue='Survived')\n",
        "sns.displot(df, x=\"Fare\", hue='Survived')\n",
        "sns.displot(df, x=\"Sex_female\", hue='Survived')\n",
        "sns.displot(df, x=\"Sex_male\", hue='Survived')"
      ],
      "execution_count": 137,
      "outputs": [
        {
          "output_type": "execute_result",
          "data": {
            "text/plain": [
              "<seaborn.axisgrid.FacetGrid at 0x7fefefba9790>"
            ]
          },
          "metadata": {
            "tags": []
          },
          "execution_count": 137
        },
        {
          "output_type": "display_data",
          "data": {
            "image/png": "[encoded data removed]",
            "text/plain": [
              "<Figure size 411.875x360 with 1 Axes>"
            ]
          },
          "metadata": {
            "tags": [],
            "needs_background": "light"
          }
        },
        {
          "output_type": "display_data",
          "data": {
            "image/png": "[encoded data removed]",
            "text/plain": [
              "<Figure size 411.875x360 with 1 Axes>"
            ]
          },
          "metadata": {
            "tags": [],
            "needs_background": "light"
          }
        },
        {
          "output_type": "display_data",
          "data": {
            "image/png": "[encoded data removed]",
            "text/plain": [
              "<Figure size 411.875x360 with 1 Axes>"
            ]
          },
          "metadata": {
            "tags": [],
            "needs_background": "light"
          }
        },
        {
          "output_type": "display_data",
          "data": {
            "image/png": "[encoded data removed]",
            "text/plain": [
              "<Figure size 411.875x360 with 1 Axes>"
            ]
          },
          "metadata": {
            "tags": [],
            "needs_background": "light"
          }
        },
        {
          "output_type": "display_data",
          "data": {
            "image/png": "[encoded data removed]",
            "text/plain": [
              "<Figure size 411.875x360 with 1 Axes>"
            ]
          },
          "metadata": {
            "tags": [],
            "needs_background": "light"
          }
        },
        {
          "output_type": "display_data",
          "data": {
            "image/png": "[encoded data removed]",
            "text/plain": [
              "<Figure size 411.875x360 with 1 Axes>"
            ]
          },
          "metadata": {
            "tags": [],
            "needs_background": "light"
          }
        },
        {
          "output_type": "display_data",
          "data": {
            "image/png": "[encoded data removed]",
            "text/plain": [
              "<Figure size 411.875x360 with 1 Axes>"
            ]
          },
          "metadata": {
            "tags": [],
            "needs_background": "light"
          }
        }
      ]
    },
    {
      "cell_type": "markdown",
      "metadata": {
        "id": "oJKkbtAowybP"
      },
      "source": [
        "##실험\n",
        "\n",
        "우선 모든 parameter이 default인 basis 실험을 진행하여 basis model을 만들어서 fit, cross validation까지 모두 마친다.\n",
        "\n",
        "그리고 각 Decision tree, logistic regression, mlp에 관한 실험을 진행할 것이다. 각 실험을 통해 parameter값에 변경을 주어 최적의 parameter을 가진 final model들을 도출해 낼것이다.\n",
        "\n"
      ]
    },
    {
      "cell_type": "markdown",
      "metadata": {
        "id": "gW1zmQ9dw-Ia"
      },
      "source": [
        "### Basis 실험\n",
        "DecisionTreeClassifier(), LogisticRegression(), MLPClassifier() 모두 default setting으로 가되 이 데이터셋을 이용한 실험을 진행 할 시 LogisticRegression()과 MLPClassifier()모두 max_iter이 부족하다는 error message를 띄워 max_iter=10000인 모델을 basis model로 선정."
      ]
    },
    {
      "cell_type": "markdown",
      "metadata": {
        "id": "15sCYwKw-Yg6"
      },
      "source": [
        "#### Split Data"
      ]
    },
    {
      "cell_type": "code",
      "metadata": {
        "id": "wI3lpWOP_LE4",
        "colab": {
          "base_uri": "https://localhost:8080/"
        },
        "outputId": "3d90dcc1-77be-49ab-f0c2-4bbda986bf88"
      },
      "source": [
        "# split data to X and y\n",
        "y = df[[\"Survived\"]]\n",
        "X = df.drop([\"Survived\"],axis=1)\n",
        "\n",
        "# split train, validation and test data\n",
        "from sklearn.model_selection import train_test_split\n",
        "\n",
        "X_train, X_test, y_train, y_test = train_test_split(X, y, test_size=0.2, random_state=42)\n",
        "X_train, X_val, y_train, y_val = train_test_split(X_train, y_train, test_size=0.25, random_state=42)\n",
        "\n",
        "# check dimension\n",
        "X_test.shape"
      ],
      "execution_count": 138,
      "outputs": [
        {
          "output_type": "execute_result",
          "data": {
            "text/plain": [
              "(143, 7)"
            ]
          },
          "metadata": {
            "tags": []
          },
          "execution_count": 138
        }
      ]
    },
    {
      "cell_type": "markdown",
      "metadata": {
        "id": "gYNWwdvR-bEb"
      },
      "source": [
        "#### Build and Train Model\n",
        "각자 세 모델을 build하고 train하며 마지막엔 validation accuracy (score)을 print한다."
      ]
    },
    {
      "cell_type": "markdown",
      "metadata": {
        "id": "8YIn4W5vyfZk"
      },
      "source": [
        "Decision Tree"
      ]
    },
    {
      "cell_type": "code",
      "metadata": {
        "id": "X8XiQCoj-dVE",
        "colab": {
          "base_uri": "https://localhost:8080/"
        },
        "outputId": "96793d56-09c8-4c36-fad0-5ba43848f2df"
      },
      "source": [
        "# build and train decision tree\n",
        "from sklearn.tree import DecisionTreeClassifier\n",
        "\n",
        "decTree = DecisionTreeClassifier()\n",
        "decTree.fit(X_train, y_train)\n",
        "\n",
        "# get validation accuracy\n",
        "decTree.score(X_val, y_val)"
      ],
      "execution_count": 139,
      "outputs": [
        {
          "output_type": "execute_result",
          "data": {
            "text/plain": [
              "0.7902097902097902"
            ]
          },
          "metadata": {
            "tags": []
          },
          "execution_count": 139
        }
      ]
    },
    {
      "cell_type": "markdown",
      "metadata": {
        "id": "-h5Jq58Kk6bh"
      },
      "source": [
        "Logistic regression"
      ]
    },
    {
      "cell_type": "code",
      "metadata": {
        "colab": {
          "base_uri": "https://localhost:8080/"
        },
        "id": "i-KL8G-fk5iy",
        "outputId": "5bb07755-d686-4129-cf10-61785689e942"
      },
      "source": [
        "# logistic regression model\n",
        "from sklearn.linear_model import LogisticRegression\n",
        "\t\n",
        "lr = LogisticRegression(max_iter=10000)\n",
        "lr.fit(X_train, y_train.values.ravel())\n",
        "\n",
        "# model score\n",
        "lr.score(X_val, y_val)"
      ],
      "execution_count": 140,
      "outputs": [
        {
          "output_type": "execute_result",
          "data": {
            "text/plain": [
              "0.7902097902097902"
            ]
          },
          "metadata": {
            "tags": []
          },
          "execution_count": 140
        }
      ]
    },
    {
      "cell_type": "markdown",
      "metadata": {
        "id": "qWqg8-K6lKGW"
      },
      "source": [
        "MLP"
      ]
    },
    {
      "cell_type": "code",
      "metadata": {
        "colab": {
          "base_uri": "https://localhost:8080/"
        },
        "id": "_FD4NHiblPyi",
        "outputId": "47b2505d-f38f-4c49-af6f-5c500077461e"
      },
      "source": [
        "# MLP\n",
        "from sklearn.neural_network import MLPClassifier\n",
        "\t\n",
        "mlp = MLPClassifier(max_iter=10000)\n",
        "mlp.fit(X_train, y_train.values.ravel())\n",
        "\n",
        "# model score\n",
        "mlp.score(X_val, y_val)"
      ],
      "execution_count": 141,
      "outputs": [
        {
          "output_type": "execute_result",
          "data": {
            "text/plain": [
              "0.7902097902097902"
            ]
          },
          "metadata": {
            "tags": []
          },
          "execution_count": 141
        }
      ]
    },
    {
      "cell_type": "markdown",
      "metadata": {
        "id": "AqATIHVOo8er"
      },
      "source": [
        "#### Validation report"
      ]
    },
    {
      "cell_type": "code",
      "metadata": {
        "id": "Qyxi4foLfQW4",
        "colab": {
          "base_uri": "https://localhost:8080/"
        },
        "outputId": "d0fd8d66-cec3-4372-bf8e-65194bc501b7"
      },
      "source": [
        "# print classification report\n",
        "from sklearn.metrics import classification_report\n",
        "\n",
        "print(\"===decision tree===\")\n",
        "y_pred_d = decTree.predict(X_val)\n",
        "print(classification_report(y_val, y_pred_d))\n",
        "\n",
        "print(\"===logistic regression===\")\n",
        "y_pred_l = lr.predict(X_val)\n",
        "print(classification_report(y_val, y_pred_l))\n",
        "\n",
        "print(\"===mlp===\")\n",
        "y_pred_m = mlp.predict(X_val)\n",
        "print(classification_report(y_val, y_pred_m))"
      ],
      "execution_count": 156,
      "outputs": [
        {
          "output_type": "stream",
          "text": [
            "===decision tree===\n",
            "              precision    recall  f1-score   support\n",
            "\n",
            "         0.0       0.76      0.87      0.81        75\n",
            "         1.0       0.83      0.71      0.76        68\n",
            "\n",
            "    accuracy                           0.79       143\n",
            "   macro avg       0.80      0.79      0.79       143\n",
            "weighted avg       0.79      0.79      0.79       143\n",
            "\n",
            "===logistic regression===\n",
            "              precision    recall  f1-score   support\n",
            "\n",
            "         0.0       0.76      0.87      0.81        75\n",
            "         1.0       0.83      0.71      0.76        68\n",
            "\n",
            "    accuracy                           0.79       143\n",
            "   macro avg       0.80      0.79      0.79       143\n",
            "weighted avg       0.79      0.79      0.79       143\n",
            "\n",
            "===mlp===\n",
            "              precision    recall  f1-score   support\n",
            "\n",
            "         0.0       0.78      0.83      0.81        75\n",
            "         1.0       0.80      0.75      0.77        68\n",
            "\n",
            "    accuracy                           0.79       143\n",
            "   macro avg       0.79      0.79      0.79       143\n",
            "weighted avg       0.79      0.79      0.79       143\n",
            "\n"
          ],
          "name": "stdout"
        }
      ]
    },
    {
      "cell_type": "markdown",
      "metadata": {
        "id": "Pg6ZIsc5ewhk"
      },
      "source": [
        "#### Cross validation"
      ]
    },
    {
      "cell_type": "code",
      "metadata": {
        "colab": {
          "base_uri": "https://localhost:8080/"
        },
        "id": "j31NGBCsjEN0",
        "outputId": "3cff5b85-87a2-467a-a521-acb28250b7d4"
      },
      "source": [
        "print(\"===decision tree===\")\n",
        "cv_results_d = cross_validate(decTree, X_train, y_train, cv=5)\n",
        "print(np.mean(cv_results_d['test_score']))\n",
        "\n",
        "print(\"===logistic regression===\")\n",
        "cv_results_l = cross_validate(lr, X_train, y_train.values.ravel(), cv=5)\n",
        "print(np.mean(cv_results_l['test_score']))\n",
        "\n",
        "print(\"===mlp===\")\n",
        "cv_results_m = cross_validate(mlp, X_train, y_train.values.ravel(), cv=5)\n",
        "print(np.mean(cv_results_m['test_score']))"
      ],
      "execution_count": 157,
      "outputs": [
        {
          "output_type": "stream",
          "text": [
            "===decision tree===\n",
            "0.7499042407660739\n",
            "===logistic regression===\n",
            "0.8061012311901505\n",
            "===mlp===\n",
            "0.8014227086183311\n"
          ],
          "name": "stdout"
        }
      ]
    },
    {
      "cell_type": "markdown",
      "metadata": {
        "id": "dn8irNqefELW"
      },
      "source": [
        "#### Final evaluation on test dataset"
      ]
    },
    {
      "cell_type": "code",
      "metadata": {
        "id": "Z3ytr5oAhWfL",
        "colab": {
          "base_uri": "https://localhost:8080/"
        },
        "outputId": "2d3478a1-39c4-493c-c856-9eeb4b1e65e8"
      },
      "source": [
        "# print classification report\n",
        "print(\"===decision tree===\")\n",
        "y_pred_test_d = decTree.predict(X_test)\n",
        "print(classification_report(y_test, y_pred_test_d))\n",
        "\n",
        "print(\"===logistic regression===\")\n",
        "y_pred_test_l = lr.predict(X_test)\n",
        "print(classification_report(y_test, y_pred_test_l))\n",
        "\n",
        "print(\"===mlp===\")\n",
        "y_pred_test_m = mlp.predict(X_test)\n",
        "print(classification_report(y_test, y_pred_test_m))"
      ],
      "execution_count": 158,
      "outputs": [
        {
          "output_type": "stream",
          "text": [
            "===decision tree===\n",
            "              precision    recall  f1-score   support\n",
            "\n",
            "         0.0       0.78      0.79      0.78        87\n",
            "         1.0       0.67      0.64      0.65        56\n",
            "\n",
            "    accuracy                           0.73       143\n",
            "   macro avg       0.72      0.72      0.72       143\n",
            "weighted avg       0.73      0.73      0.73       143\n",
            "\n",
            "===logistic regression===\n",
            "              precision    recall  f1-score   support\n",
            "\n",
            "         0.0       0.79      0.85      0.82        87\n",
            "         1.0       0.73      0.64      0.69        56\n",
            "\n",
            "    accuracy                           0.77       143\n",
            "   macro avg       0.76      0.75      0.75       143\n",
            "weighted avg       0.77      0.77      0.77       143\n",
            "\n",
            "===mlp===\n",
            "              precision    recall  f1-score   support\n",
            "\n",
            "         0.0       0.76      0.77      0.77        87\n",
            "         1.0       0.64      0.62      0.63        56\n",
            "\n",
            "    accuracy                           0.71       143\n",
            "   macro avg       0.70      0.70      0.70       143\n",
            "weighted avg       0.71      0.71      0.71       143\n",
            "\n"
          ],
          "name": "stdout"
        }
      ]
    },
    {
      "cell_type": "markdown",
      "metadata": {
        "id": "Ahs55slnxfOD"
      },
      "source": [
        "###Decision tree 실험\n",
        "https://scikit-learn.org/stable/modules/generated/sklearn.tree.DecisionTreeClassifier.html\n",
        "\n",
        "위의 링크에서 DecisionTreeClassifier의 parameter들을 확인해 볼 수 있다.\n",
        "\n",
        "Decision tree에서 가장 자주 사용하고 효과적은 parameter 조정법은 바로 pruning인데 이는 거대한 decission tree의 크기를 조정함으로써 학습에 도움이 되지 않는 node들이 전체 학습 score에 영향을 끼치는 것을 줄인다.\n",
        "\n",
        "Pruning할 때 조정이 되는 parameter들은 \n",
        "\n",
        "*   max_leaf_nodes\n",
        "*   max_depth\n",
        "*   min_samples_split\n",
        "*   min_samples_leaf\n",
        "\n",
        "가 있으며 이번 실험에서는 이 네가지 parameter들 중 max_leaf_nodes와 max_depth를 각각 조정하는 두개의 model을 사용하여 각 parameter의 최적의 값을 찾아내고 그 최적의 값들을 모두 집어넣은 model의 성능이 과연 최적일지 까지 알아볼 것이다."
      ]
    },
    {
      "cell_type": "markdown",
      "metadata": {
        "id": "z1T5KHuq1k68"
      },
      "source": [
        "#### max_leaf_nodes\n",
        "\n",
        "max_leaf_nodes를 [500, 250, 100, 50, 10, 5, 3]으로 각각 설정하여 5-fold cross validation을 진행해본 결과, *5*로 설정 된 것이 결과가 가장 좋았다. test_score들을 각각 비교해보았을 때 max_leaf_nodes들은 작아질수록 성능은 더 올라갔으나 너무 작아도 성능이 오히려 떨어지는 것을 볼 수 있었다."
      ]
    },
    {
      "cell_type": "code",
      "metadata": {
        "colab": {
          "base_uri": "https://localhost:8080/"
        },
        "id": "VkGdRyblxnIp",
        "outputId": "22256c5d-aea9-477d-a984-cd1ca2df5a6e"
      },
      "source": [
        "max_leaf_nodes = [500, 250, 100, 50, 10, 5, 3]\n",
        "for m in max_leaf_nodes:\n",
        "    decTree_temp = DecisionTreeClassifier(max_leaf_nodes=m)\n",
        "    cv_results = cross_validate(decTree_temp, X_train, y_train, cv=5)\n",
        "    print('max_leaf_nodes: ',m)\n",
        "    print(np.mean(cv_results['test_score']))"
      ],
      "execution_count": 159,
      "outputs": [
        {
          "output_type": "stream",
          "text": [
            "max_leaf_nodes:  500\n",
            "0.7569630642954857\n",
            "max_leaf_nodes:  250\n",
            "0.7475786593707251\n",
            "max_leaf_nodes:  100\n",
            "0.7569904240766074\n",
            "max_leaf_nodes:  50\n",
            "0.7663201094391245\n",
            "max_leaf_nodes:  10\n",
            "0.8085362517099863\n",
            "max_leaf_nodes:  5\n",
            "0.8200547195622434\n",
            "max_leaf_nodes:  3\n",
            "0.7851162790697674\n"
          ],
          "name": "stdout"
        }
      ]
    },
    {
      "cell_type": "markdown",
      "metadata": {
        "id": "LbRBpv8L1Ftj"
      },
      "source": [
        "#### max_depth\n",
        "max_depth또한 max_leaf_nodes와 동일하게 [500, 250, 100, 50, 10, 5, 3]으로 각각 설정하여 5-fold cross validation을 진행해본 결과, 내려갈수록 더 좋은 test_score을 보였으며 가장 높은 test_score을 보인 max_depth는 *3*이였다."
      ]
    },
    {
      "cell_type": "code",
      "metadata": {
        "colab": {
          "base_uri": "https://localhost:8080/"
        },
        "id": "2yJtX-gz19Mc",
        "outputId": "9e0e43c3-9c13-4a8a-efd2-072ccac5651f"
      },
      "source": [
        "max_depth = [500, 250, 100, 50, 10, 5, 3, 1]\n",
        "for m in max_depth:\n",
        "    decTree_temp = DecisionTreeClassifier(max_depth=m)\n",
        "    cv_results = cross_validate(decTree_temp, X_train, y_train, cv=5)\n",
        "    print('max_depth: ',m)\n",
        "    print(np.mean(cv_results['test_score']))"
      ],
      "execution_count": 160,
      "outputs": [
        {
          "output_type": "stream",
          "text": [
            "max_depth:  500\n",
            "0.7639945280437757\n",
            "max_depth:  250\n",
            "0.7452530779753762\n",
            "max_depth:  100\n",
            "0.7475786593707251\n",
            "max_depth:  50\n",
            "0.7522298221614228\n",
            "max_depth:  10\n",
            "0.7779753761969903\n",
            "max_depth:  5\n",
            "0.7874418604651163\n",
            "max_depth:  3\n",
            "0.8294664842681259\n",
            "max_depth:  1\n",
            "0.7991244870041039\n"
          ],
          "name": "stdout"
        }
      ]
    },
    {
      "cell_type": "markdown",
      "metadata": {
        "id": "b-BgDCxUAvL3"
      },
      "source": [
        "####max_leaf_nodes와 max_depth 모두 변경\n",
        "\n",
        "제일 test_score이 높은 경우는 max_depth가 3이고 max_leaf_nodes가 10/50/100/250/500인 경우였다."
      ]
    },
    {
      "cell_type": "code",
      "metadata": {
        "colab": {
          "base_uri": "https://localhost:8080/"
        },
        "id": "uYans2K2A0nb",
        "outputId": "09445ad6-cb7e-4eb2-ddf9-9c796b1c0f87"
      },
      "source": [
        "max_leaf_nodes = [500, 250, 100, 50, 10, 5, 3]\n",
        "max_depth = [500, 250, 100, 50, 10, 5, 3, 1]\n",
        "\n",
        "test_scores=[]\n",
        "\n",
        "print('(max_depth, max_leaf_nodes):')\n",
        "for m in max_depth:\n",
        "    for n in max_leaf_nodes:\n",
        "        decTree_temp = DecisionTreeClassifier(max_depth=m, max_leaf_nodes=n)\n",
        "        cv_results = cross_validate(decTree_temp, X_train, y_train, cv=5)\n",
        "        print('(',m,', ',n,') : ', np.mean(cv_results['test_score']))\n",
        "        test_scores.append(np.mean(cv_results['test_score']))\n",
        "\n",
        "test_scores.sort()\n",
        "print(\"Best accuracy:\", test_scores[-1])"
      ],
      "execution_count": 161,
      "outputs": [
        {
          "output_type": "stream",
          "text": [
            "(max_depth, max_leaf_nodes):\n",
            "( 500 ,  500 ) :  0.7476060191518468\n",
            "( 500 ,  250 ) :  0.752202462380301\n",
            "( 500 ,  100 ) :  0.7522571819425445\n",
            "( 500 ,  50 ) :  0.7616142270861833\n",
            "( 500 ,  10 ) :  0.8085362517099863\n",
            "( 500 ,  5 ) :  0.8200547195622434\n",
            "( 500 ,  3 ) :  0.7851162790697674\n",
            "( 250 ,  500 ) :  0.7639945280437757\n",
            "( 250 ,  250 ) :  0.7428727770177839\n",
            "( 250 ,  100 ) :  0.7499316005471957\n",
            "( 250 ,  50 ) :  0.7710533515731874\n",
            "( 250 ,  10 ) :  0.8085362517099863\n",
            "( 250 ,  5 ) :  0.8200547195622434\n",
            "( 250 ,  3 ) :  0.7851162790697674\n",
            "( 100 ,  500 ) :  0.7616142270861833\n",
            "( 100 ,  250 ) :  0.7639945280437757\n",
            "( 100 ,  100 ) :  0.7499316005471957\n",
            "( 100 ,  50 ) :  0.766374829001368\n",
            "( 100 ,  10 ) :  0.8085362517099863\n",
            "( 100 ,  5 ) :  0.8200547195622434\n",
            "( 100 ,  3 ) :  0.7851162790697674\n",
            "( 50 ,  500 ) :  0.7499042407660739\n",
            "( 50 ,  250 ) :  0.7569357045143639\n",
            "( 50 ,  100 ) :  0.7545554035567716\n",
            "( 50 ,  50 ) :  0.7593160054719562\n",
            "( 50 ,  10 ) :  0.8085362517099863\n",
            "( 50 ,  5 ) :  0.8200547195622434\n",
            "( 50 ,  3 ) :  0.7851162790697674\n",
            "( 10 ,  500 ) :  0.780328317373461\n",
            "( 10 ,  250 ) :  0.7849794801641586\n",
            "( 10 ,  100 ) :  0.7755950752393981\n",
            "( 10 ,  50 ) :  0.780328317373461\n",
            "( 10 ,  10 ) :  0.8085362517099863\n",
            "( 10 ,  5 ) :  0.8200547195622434\n",
            "( 10 ,  3 ) :  0.7851162790697674\n",
            "( 5 ,  500 ) :  0.7897674418604652\n",
            "( 5 ,  250 ) :  0.789767441860465\n",
            "( 5 ,  100 ) :  0.7874145006839945\n",
            "( 5 ,  50 ) :  0.7827633378932969\n",
            "( 5 ,  10 ) :  0.8062106703146374\n",
            "( 5 ,  5 ) :  0.8200547195622434\n",
            "( 5 ,  3 ) :  0.7851162790697674\n",
            "( 3 ,  500 ) :  0.8294664842681259\n",
            "( 3 ,  250 ) :  0.8294664842681259\n",
            "( 3 ,  100 ) :  0.8294664842681259\n",
            "( 3 ,  50 ) :  0.8294664842681259\n",
            "( 3 ,  10 ) :  0.8294664842681259\n",
            "( 3 ,  5 ) :  0.8200547195622434\n",
            "( 3 ,  3 ) :  0.7851162790697674\n",
            "( 1 ,  500 ) :  0.7991244870041039\n",
            "( 1 ,  250 ) :  0.7991244870041039\n",
            "( 1 ,  100 ) :  0.7991244870041039\n",
            "( 1 ,  50 ) :  0.7991244870041039\n",
            "( 1 ,  10 ) :  0.7991244870041039\n",
            "( 1 ,  5 ) :  0.7991244870041039\n",
            "( 1 ,  3 ) :  0.7991244870041039\n",
            "Best accuracy: 0.8294664842681259\n"
          ],
          "name": "stdout"
        }
      ]
    },
    {
      "cell_type": "markdown",
      "metadata": {
        "id": "SSqmpFvS18hc"
      },
      "source": [
        "####최종 실험 결과 비교 & 최종 모델 선정\n",
        "\n",
        "Basis 실험에서 만든 basis 모델을 포함, 총 네가지의 모델을 생성하였다:\n",
        "*   decTree : 모든 설정이 default인 decision tree\n",
        "*   decTree_mln : max_leaf_nodes = 5인 decision tree\n",
        "*   decTree_md : max_depth = 3인 decision tree\n",
        "*   decTree_total : max_leaf_nodes = 5, max_depth = 3인 decision tree\n",
        "\n",
        "각 트리에 대한 cross validation을 진행, 각각 test셋에 대한 성능을 평가해 본 결과, max_depth를 변화시킨 *decTree_md*와 둘 다 변화시킨 *decTree_total*이 가장 높은 성능을 보였고 본 연구에선 **decTree_total**을 최종 모델로 선정할 것이다."
      ]
    },
    {
      "cell_type": "code",
      "metadata": {
        "colab": {
          "base_uri": "https://localhost:8080/"
        },
        "id": "yQhrzBB0295e",
        "outputId": "a695773d-c313-465c-ed31-482b846ed2de"
      },
      "source": [
        "decTree_mln = DecisionTreeClassifier(max_leaf_nodes=5)\n",
        "decTree_mln.fit(X_train, y_train)\n",
        "decTree_md = DecisionTreeClassifier(max_depth=3)\n",
        "decTree_md.fit(X_train, y_train)\n",
        "decTree_total = DecisionTreeClassifier(max_leaf_nodes=100, max_depth=3)\n",
        "decTree_total.fit(X_train, y_train)\n",
        "\n",
        "decTrees = [decTree, decTree_mln, decTree_md, decTree_total]\n",
        "for d in decTrees:\n",
        "    print(\"=====================================================\")\n",
        "    y_pred_train = d.predict(X_train)\n",
        "    print(classification_report(y_train, y_pred_train))\n",
        "    cv_results = cross_validate(d, X_train, y_train, cv=5)\n",
        "    print(np.mean(cv_results['test_score']))\n"
      ],
      "execution_count": 162,
      "outputs": [
        {
          "output_type": "stream",
          "text": [
            "=====================================================\n",
            "              precision    recall  f1-score   support\n",
            "\n",
            "         0.0       0.99      1.00      0.99       262\n",
            "         1.0       1.00      0.98      0.99       166\n",
            "\n",
            "    accuracy                           0.99       428\n",
            "   macro avg       0.99      0.99      0.99       428\n",
            "weighted avg       0.99      0.99      0.99       428\n",
            "\n",
            "0.7475512995896033\n",
            "=====================================================\n",
            "              precision    recall  f1-score   support\n",
            "\n",
            "         0.0       0.84      0.91      0.87       262\n",
            "         1.0       0.83      0.73      0.78       166\n",
            "\n",
            "    accuracy                           0.84       428\n",
            "   macro avg       0.84      0.82      0.83       428\n",
            "weighted avg       0.84      0.84      0.84       428\n",
            "\n",
            "0.8200547195622434\n",
            "=====================================================\n",
            "              precision    recall  f1-score   support\n",
            "\n",
            "         0.0       0.84      0.92      0.88       262\n",
            "         1.0       0.85      0.72      0.78       166\n",
            "\n",
            "    accuracy                           0.84       428\n",
            "   macro avg       0.85      0.82      0.83       428\n",
            "weighted avg       0.84      0.84      0.84       428\n",
            "\n",
            "0.8294664842681259\n",
            "=====================================================\n",
            "              precision    recall  f1-score   support\n",
            "\n",
            "         0.0       0.84      0.92      0.88       262\n",
            "         1.0       0.85      0.72      0.78       166\n",
            "\n",
            "    accuracy                           0.84       428\n",
            "   macro avg       0.85      0.82      0.83       428\n",
            "weighted avg       0.84      0.84      0.84       428\n",
            "\n",
            "0.8294664842681259\n"
          ],
          "name": "stdout"
        }
      ]
    },
    {
      "cell_type": "markdown",
      "metadata": {
        "id": "oO52Xm3d8Jsz"
      },
      "source": [
        "###Logistic regreesion 실험\n",
        "https://scikit-learn.org/stable/modules/generated/sklearn.linear_model.LogisticRegression.html\n",
        "\n",
        "위의 링크에서 LogisticRegression의 parameter들을 확인해 볼 수 있다.\n",
        "\n",
        "본 실험에서는 LogisticRegression의 parameter들 중 C와 Solver를 조정해볼 것이다."
      ]
    },
    {
      "cell_type": "markdown",
      "metadata": {
        "id": "HV2yzPnP8Js0"
      },
      "source": [
        "#### C\n",
        "\n",
        "C를 [0.001,0.01,0.1,1,10,100] 으로 다양하게 변화를 준 결과 C가 *10* 또는 *100*인 경우가 test_score이 가장 높았다. 본 연구에서는 C를 *10*으로 설정하여 사용할 것이다.\n"
      ]
    },
    {
      "cell_type": "code",
      "metadata": {
        "id": "PQg3WvcK8Js0"
      },
      "source": [
        "c_range = [0.001,0.01,0.1,1,10,100]\n",
        "for c in c_range:\n",
        "    lr_temp = LogisticRegression(max_iter=1000, C=c)\n",
        "    cv_results = cross_validate(lr_temp, X_train, y_train.values.ravel(), cv=5)\n",
        "    print('c: ',c)\n",
        "    print(np.mean(cv_results['test_score']))"
      ],
      "execution_count": null,
      "outputs": []
    },
    {
      "cell_type": "markdown",
      "metadata": {
        "id": "vD2hml1IFL7q"
      },
      "source": [
        "####Solver\n",
        "Solver parameter은 아무런 값도 주어지지않았을 때에 'lbfgs'가 default값이다. 따라서 'lbfgs'를 제외한 나머지 ['newton-cg', 'liblinear', 'sag', 'saga']에 따라 각각 진행해본 결과, 'newton-cg'를 이용한 모델의 값이 가장 좋았다."
      ]
    },
    {
      "cell_type": "code",
      "metadata": {
        "id": "AR1tkPXQ8Js1"
      },
      "source": [
        "solver = ['newton-cg','liblinear','sag','saga']\n",
        "for p in solver:\n",
        "    lr_temp = LogisticRegression(max_iter=10000,solver=p)\n",
        "    cv_results = cross_validate(lr_temp, X_train, y_train.values.ravel(), cv=5)\n",
        "    print('solver: ',p)\n",
        "    print(np.mean(cv_results['test_score']))"
      ],
      "execution_count": null,
      "outputs": []
    },
    {
      "cell_type": "markdown",
      "metadata": {
        "id": "XejD2W4vF3fu"
      },
      "source": [
        "####C와 Solver 모두 변경\n",
        "\n",
        "제일 test_score이 높은 경우는 (C, Solver)이 ( 10 ,  newton-cg )/( 100 ,  newton-cg )/( 100 ,  liblinear ) 인 경우였고, 이 연구에선 위의 선택들과 상반되는 값을 이용하기 위하여 ( 100 ,  liblinear )을 이용하겠다."
      ]
    },
    {
      "cell_type": "code",
      "metadata": {
        "colab": {
          "base_uri": "https://localhost:8080/"
        },
        "id": "w0FXsSuwF-M7",
        "outputId": "6745fff9-4b8c-4744-b08f-20a54f936ab4"
      },
      "source": [
        "c_range = [0.001,0.01,0.1,1,10,100]\n",
        "solver = ['newton-cg','liblinear','sag','saga']\n",
        "\n",
        "test_scores=[]\n",
        "\n",
        "print('(C, Solver):')\n",
        "for c in c_range:\n",
        "    for s in solver:\n",
        "        lr_temp = LogisticRegression(max_iter=10000, C=c,solver=s)\n",
        "        cv_results = cross_validate(lr_temp, X_train, y_train.values.ravel(), cv=5)\n",
        "        print('(',c,', ',s,') : ', np.mean(cv_results['test_score']))\n",
        "        test_scores.append(np.mean(cv_results['test_score']))\n",
        "\n",
        "test_scores.sort()\n",
        "print(\"Best accuracy:\", test_scores[-1])"
      ],
      "execution_count": 146,
      "outputs": [
        {
          "output_type": "stream",
          "text": [
            "(C, Solver):\n",
            "( 0.001 ,  newton-cg ) :  0.6728043775649796\n",
            "( 0.001 ,  liblinear ) :  0.6821614227086183\n",
            "( 0.001 ,  sag ) :  0.684514363885089\n",
            "( 0.001 ,  saga ) :  0.684514363885089\n",
            "( 0.01 ,  newton-cg ) :  0.7312722298221613\n",
            "( 0.01 ,  liblinear ) :  0.7242407660738713\n",
            "( 0.01 ,  sag ) :  0.7219151846785226\n",
            "( 0.01 ,  saga ) :  0.7219151846785226\n",
            "( 0.1 ,  newton-cg ) :  0.7943638850889192\n",
            "( 0.1 ,  liblinear ) :  0.7873050615595074\n",
            "( 0.1 ,  sag ) :  0.787359781121751\n",
            "( 0.1 ,  saga ) :  0.7943638850889192\n",
            "( 1 ,  newton-cg ) :  0.8061012311901505\n",
            "( 1 ,  liblinear ) :  0.7990697674418604\n",
            "( 1 ,  sag ) :  0.7826812585499315\n",
            "( 1 ,  saga ) :  0.780328317373461\n",
            "( 10 ,  newton-cg ) :  0.8084541723666211\n",
            "( 10 ,  liblinear ) :  0.80374829001368\n",
            "( 10 ,  sag ) :  0.7873871409028728\n",
            "( 10 ,  saga ) :  0.780328317373461\n",
            "( 100 ,  newton-cg ) :  0.8084541723666211\n",
            "( 100 ,  liblinear ) :  0.8084541723666211\n",
            "( 100 ,  sag ) :  0.7873871409028728\n",
            "( 100 ,  saga ) :  0.780328317373461\n",
            "Best accuracy: 0.8084541723666211\n"
          ],
          "name": "stdout"
        }
      ]
    },
    {
      "cell_type": "markdown",
      "metadata": {
        "id": "FNAASItO8Js1"
      },
      "source": [
        "####최종 실험 결과 비교 & 최종 모델 선정\n",
        "Basis 실험에서 만든 basis 모델을 포함, 총 네가지의 모델을 생성하였다:\n",
        "*   lr : 모든 설정이 default인 logistic regression\n",
        "*   lr_c : C=10인 logistic regression\n",
        "*   lr_s : solver='newton-cg'인 logistic regression\n",
        "*   lr_total : C=100, solver='liblinear'인 logistic regression\n",
        "\n",
        "각 트리에 대한 cross validation을 진행, 각각 test셋에 대한 성능을 평가해 본 결과, C를 변화시킨 *lr_c*와 둘 다 변화시킨 *lr_total*이 가장 높은 성능을 보였고 본 연구에선 **lr_total**을 최종 모델로 선정할 것이다."
      ]
    },
    {
      "cell_type": "code",
      "metadata": {
        "colab": {
          "base_uri": "https://localhost:8080/"
        },
        "id": "ekxkNF_X8Js1",
        "outputId": "842602f5-044f-47d9-f2d3-be31fd51d503"
      },
      "source": [
        "lr_c = LogisticRegression(max_iter=10000,C=10)\n",
        "lr_c.fit(X_train, y_train.values.ravel())\n",
        "lr_s = LogisticRegression(max_iter=10000, solver='newton-cg')\n",
        "lr_s.fit(X_train, y_train.values.ravel())\n",
        "lr_total = LogisticRegression(max_iter=10000, C=100, solver='liblinear')\n",
        "lr_total.fit(X_train, y_train.values.ravel())\n",
        "\n",
        "lrs = [lr, lr_c, lr_s, lr_total]\n",
        "for l in lrs:\n",
        "    print(\"=====================================================\")\n",
        "    y_pred_train = l.predict(X_train)\n",
        "    print(classification_report(y_train, y_pred_train))\n",
        "    cv_results = cross_validate(l, X_train, y_train.values.ravel(), cv=5)\n",
        "    print(np.mean(cv_results['test_score']))"
      ],
      "execution_count": 165,
      "outputs": [
        {
          "output_type": "stream",
          "text": [
            "=====================================================\n",
            "              precision    recall  f1-score   support\n",
            "\n",
            "         0.0       0.83      0.89      0.86       262\n",
            "         1.0       0.80      0.71      0.75       166\n",
            "\n",
            "    accuracy                           0.82       428\n",
            "   macro avg       0.81      0.80      0.80       428\n",
            "weighted avg       0.82      0.82      0.82       428\n",
            "\n",
            "0.8061012311901505\n",
            "=====================================================\n",
            "              precision    recall  f1-score   support\n",
            "\n",
            "         0.0       0.83      0.88      0.86       262\n",
            "         1.0       0.79      0.72      0.75       166\n",
            "\n",
            "    accuracy                           0.82       428\n",
            "   macro avg       0.81      0.80      0.80       428\n",
            "weighted avg       0.82      0.82      0.82       428\n",
            "\n",
            "0.8084541723666211\n",
            "=====================================================\n",
            "              precision    recall  f1-score   support\n",
            "\n",
            "         0.0       0.83      0.89      0.86       262\n",
            "         1.0       0.80      0.71      0.75       166\n",
            "\n",
            "    accuracy                           0.82       428\n",
            "   macro avg       0.81      0.80      0.80       428\n",
            "weighted avg       0.82      0.82      0.82       428\n",
            "\n",
            "0.8061012311901505\n",
            "=====================================================\n",
            "              precision    recall  f1-score   support\n",
            "\n",
            "         0.0       0.83      0.88      0.86       262\n",
            "         1.0       0.79      0.72      0.75       166\n",
            "\n",
            "    accuracy                           0.82       428\n",
            "   macro avg       0.81      0.80      0.80       428\n",
            "weighted avg       0.82      0.82      0.82       428\n",
            "\n",
            "0.8084541723666211\n"
          ],
          "name": "stdout"
        }
      ]
    },
    {
      "cell_type": "markdown",
      "metadata": {
        "id": "22fwWWOYLCjJ"
      },
      "source": [
        "###MLP 실험\n",
        "https://scikit-learn.org/stable/modules/generated/sklearn.neural_network.MLPClassifier.html\n",
        "\n",
        "위의 링크에서 MLPClassifier의 parameter들을 확인해 볼 수 있다.\n",
        "\n",
        "본 실험에서는 MLPClassifier의 parameter들 중 hidden_layer_sizes와 alpha를 조정해볼 것이다."
      ]
    },
    {
      "cell_type": "markdown",
      "metadata": {
        "id": "LCneVMhdLCjK"
      },
      "source": [
        "#### hidden_layer_sizes\n",
        "\n",
        "hidden_layer_sizes를 hidden_layers = [(50,50,50), (50,100,50), (200,), (100, 2), (30, )] 으로 다양하게 변화를 준 결과 (default = (100, )), hidden_layer_sizes가 *(200, )*인 경우가 test_score이 가장 높았다. \n"
      ]
    },
    {
      "cell_type": "code",
      "metadata": {
        "colab": {
          "base_uri": "https://localhost:8080/"
        },
        "id": "rBeDWgqQLCjK",
        "outputId": "3e537893-1646-4880-bb2d-294917448e55"
      },
      "source": [
        "hidden_layers = [(50,50,50), (50,100,50), (200,), (100, 2), (30, )]\n",
        "for h in hidden_layers:\n",
        "    mlp_temp = MLPClassifier(max_iter=10000, hidden_layer_sizes=h)\n",
        "    cv_results = cross_validate(mlp_temp, X_train, y_train.values.ravel(), cv=5)\n",
        "    print('hidden_layer_sizes: ',h)\n",
        "    print(np.mean(cv_results['test_score']))"
      ],
      "execution_count": 169,
      "outputs": [
        {
          "output_type": "stream",
          "text": [
            "hidden_layer_sizes:  (50, 50, 50)\n",
            "0.7921203830369358\n",
            "hidden_layer_sizes:  (50, 100, 50)\n",
            "0.7943365253077975\n",
            "hidden_layer_sizes:  (200,)\n",
            "0.7967441860465116\n",
            "hidden_layer_sizes:  (100, 2)\n",
            "0.7850341997264022\n",
            "hidden_layer_sizes:  (30,)\n",
            "0.794391244870041\n"
          ],
          "name": "stdout"
        }
      ]
    },
    {
      "cell_type": "markdown",
      "metadata": {
        "id": "NAgipL27LCjK"
      },
      "source": [
        "####Alpha\n",
        "Solver parameter은 아무런 값도 주어지지않았을 때에 0.0001가 default값이다. 따라서 0.0001를 제외한 나머지 [1.0, 0.5, 0.1, 0.01]에 따라 각각 진행해본 결과, alpha = 0.5인 모델의 성능이 가장 훌륭했다."
      ]
    },
    {
      "cell_type": "code",
      "metadata": {
        "colab": {
          "base_uri": "https://localhost:8080/"
        },
        "id": "obOveaELLCjK",
        "outputId": "4ac75928-b2b9-4573-e345-a02ae051a892"
      },
      "source": [
        "alpha = [1.0, 0.5, 0.1, 0.01]\n",
        "for a in alpha:\n",
        "    mlp_temp = MLPClassifier(max_iter=10000, alpha=a)\n",
        "    cv_results = cross_validate(mlp_temp, X_train, y_train.values.ravel(), cv=5)\n",
        "    print('alpha: ',a)\n",
        "    print(np.mean(cv_results['test_score']))"
      ],
      "execution_count": 170,
      "outputs": [
        {
          "output_type": "stream",
          "text": [
            "alpha:  1.0\n",
            "0.7967441860465116\n",
            "alpha:  0.5\n",
            "0.7990971272229822\n",
            "alpha:  0.1\n",
            "0.7851162790697674\n",
            "alpha:  0.01\n",
            "0.7944186046511628\n"
          ],
          "name": "stdout"
        }
      ]
    },
    {
      "cell_type": "markdown",
      "metadata": {
        "id": "SWAmREFfLCjK"
      },
      "source": [
        "####hidden_layer_sizes와 alpha 모두 변경\n",
        "\n",
        "제일 test_score이 높은 경우는 ( (30,) ,  0.01 ) 인 경우였고, 이를 이용하여 mlp_total을 만들 것이다."
      ]
    },
    {
      "cell_type": "code",
      "metadata": {
        "colab": {
          "base_uri": "https://localhost:8080/"
        },
        "id": "0BV0P1f-LCjK",
        "outputId": "f508de19-e958-47ae-cc63-a51cf5bbf96b"
      },
      "source": [
        "hidden_layers = [(50,50,50), (50,100,50), (200,), (100, 2), (30, )]\n",
        "alpha = [1.0, 0.5, 0.1, 0.01]\n",
        "\n",
        "test_scores=[]\n",
        "\n",
        "print('(hidden_layer_sizes, alpha):')\n",
        "for h in hidden_layers:\n",
        "    for a in alpha:\n",
        "        mlp_temp = MLPClassifier(max_iter=10000, hidden_layer_sizes=h, alpha=a)\n",
        "        cv_results = cross_validate(mlp_temp, X_train, y_train.values.ravel(), cv=5)\n",
        "        print('(',h,', ',a,') : ', np.mean(cv_results['test_score']))\n",
        "        test_scores.append(np.mean(cv_results['test_score']))\n",
        "\n",
        "test_scores.sort()\n",
        "print(\"Best accuracy:\", test_scores[-1])"
      ],
      "execution_count": 171,
      "outputs": [
        {
          "output_type": "stream",
          "text": [
            "(hidden_layer_sizes, alpha):\n",
            "( (50, 50, 50) ,  1.0 ) :  0.7898221614227087\n",
            "( (50, 50, 50) ,  0.5 ) :  0.8038577291381669\n",
            "( (50, 50, 50) ,  0.1 ) :  0.8037209302325582\n",
            "( (50, 50, 50) ,  0.01 ) :  0.7710259917920658\n",
            "( (50, 100, 50) ,  1.0 ) :  0.7851436388508892\n",
            "( (50, 100, 50) ,  0.5 ) :  0.7921203830369357\n",
            "( (50, 100, 50) ,  0.1 ) :  0.7780574555403558\n",
            "( (50, 100, 50) ,  0.01 ) :  0.8083994528043774\n",
            "( (200,) ,  1.0 ) :  0.7851162790697674\n",
            "( (200,) ,  0.5 ) :  0.7826812585499316\n",
            "( (200,) ,  0.1 ) :  0.7967441860465116\n",
            "( (200,) ,  0.01 ) :  0.7966621067031464\n",
            "( (100, 2) ,  1.0 ) :  0.6865663474692203\n",
            "( (100, 2) ,  0.5 ) :  0.7967168262653898\n",
            "( (100, 2) ,  0.1 ) :  0.7920930232558139\n",
            "( (100, 2) ,  0.01 ) :  0.7735704514363885\n",
            "( (30,) ,  1.0 ) :  0.7874145006839945\n",
            "( (30,) ,  0.5 ) :  0.7874418604651163\n",
            "( (30,) ,  0.1 ) :  0.7944186046511627\n",
            "( (30,) ,  0.01 ) :  0.8083994528043776\n",
            "Best accuracy: 0.8083994528043776\n"
          ],
          "name": "stdout"
        }
      ]
    },
    {
      "cell_type": "markdown",
      "metadata": {
        "id": "9_UV60oALCjL"
      },
      "source": [
        "####최종 실험 결과 비교 & 최종 모델 선정\n",
        "Basis 실험에서 만든 basis 모델을 포함, 총 네가지의 모델을 생성하였다:\n",
        "*   mlp : 모든 설정이 default인 MLP\n",
        "*   mlp_h : hidden_layer_sizes = (200, )인 MLP\n",
        "*   mlp_a : alhpa=0.5인 MLP\n",
        "*   mlp_total : hidden_layers_sizes = (30, ), alpha = 0.01인 MLP\n",
        "\n",
        "각 트리에 대한 cross validation을 진행, 각각 test셋에 대한 성능을 평가해 본 결과, hidden_layer_sizes를 변화시킨 *mlp_h*가 가장 높은 성능을 보였고 본 연구에선 이를 최종 모델로 선정할 것이다."
      ]
    },
    {
      "cell_type": "code",
      "metadata": {
        "colab": {
          "base_uri": "https://localhost:8080/"
        },
        "id": "DiAeW0qrLCjL",
        "outputId": "996634b9-cebd-4f73-ed99-3fc829a8ecb2"
      },
      "source": [
        "mlp_h = MLPClassifier(max_iter=10000,hidden_layer_sizes=(200,))\n",
        "mlp_h.fit(X_train, y_train.values.ravel())\n",
        "mlp_a = MLPClassifier(max_iter=10000, alpha=0.5)\n",
        "mlp_a.fit(X_train, y_train.values.ravel())\n",
        "mlp_total = MLPClassifier(max_iter=10000, hidden_layer_sizes=(30,),alpha=0.01)\n",
        "mlp_total.fit(X_train, y_train.values.ravel())\n",
        "\n",
        "mlps = [mlp, mlp_h, mlp_a, mlp_total]\n",
        "for m in mlps:\n",
        "    print(\"=====================================================\")\n",
        "    y_pred_train = m.predict(X_train)\n",
        "    print(classification_report(y_train, y_pred_train))\n",
        "    cv_results = cross_validate(m, X_train, y_train.values.ravel(), cv=5)\n",
        "    print(np.mean(cv_results['test_score']))"
      ],
      "execution_count": 173,
      "outputs": [
        {
          "output_type": "stream",
          "text": [
            "=====================================================\n",
            "              precision    recall  f1-score   support\n",
            "\n",
            "         0.0       0.85      0.85      0.85       262\n",
            "         1.0       0.76      0.76      0.76       166\n",
            "\n",
            "    accuracy                           0.81       428\n",
            "   macro avg       0.80      0.80      0.80       428\n",
            "weighted avg       0.81      0.81      0.81       428\n",
            "\n",
            "0.773515731874145\n",
            "=====================================================\n",
            "              precision    recall  f1-score   support\n",
            "\n",
            "         0.0       0.81      0.90      0.85       262\n",
            "         1.0       0.80      0.67      0.73       166\n",
            "\n",
            "    accuracy                           0.81       428\n",
            "   macro avg       0.81      0.78      0.79       428\n",
            "weighted avg       0.81      0.81      0.80       428\n",
            "\n",
            "0.8037756497948016\n",
            "=====================================================\n",
            "              precision    recall  f1-score   support\n",
            "\n",
            "         0.0       0.83      0.84      0.84       262\n",
            "         1.0       0.75      0.72      0.73       166\n",
            "\n",
            "    accuracy                           0.80       428\n",
            "   macro avg       0.79      0.78      0.78       428\n",
            "weighted avg       0.80      0.80      0.80       428\n",
            "\n",
            "0.789767441860465\n",
            "=====================================================\n",
            "              precision    recall  f1-score   support\n",
            "\n",
            "         0.0       0.83      0.85      0.84       262\n",
            "         1.0       0.75      0.72      0.73       166\n",
            "\n",
            "    accuracy                           0.80       428\n",
            "   macro avg       0.79      0.78      0.78       428\n",
            "weighted avg       0.80      0.80      0.80       428\n",
            "\n",
            "0.7920383036935704\n"
          ],
          "name": "stdout"
        }
      ]
    },
    {
      "cell_type": "markdown",
      "metadata": {
        "id": "Dgk7ECe7OtKq"
      },
      "source": [
        "##최종 결과 비교\n",
        "위에서 final로 선정된 **decTree_total**, **lr_total**, **mlp_h**의 test datatset에 대한 최종 결과 비교이다.\n",
        "\n",
        "X_test와 y_test로 score을 비교해 본 결과, decision tree의 final model이 가장 높은 score을 보였다.\n"
      ]
    },
    {
      "cell_type": "code",
      "metadata": {
        "colab": {
          "base_uri": "https://localhost:8080/"
        },
        "id": "3ZqbvKpuO-Yh",
        "outputId": "3b3e795a-287a-4c39-b544-0fff6f967562"
      },
      "source": [
        "print(\"=====================================================\")\n",
        "print(\"Final decision tree model: \\n\",decTree_total)\n",
        "print(decTree_total.score(X_test, y_test))\n",
        "\n",
        "print(\"=====================================================\")\n",
        "print(\"Final logistic regression model:\\n\", lr_total)\n",
        "print(lr_total.score(X_test, y_test))\n",
        "\n",
        "print(\"=====================================================\")\n",
        "print(\"Final MLP model:\\n\", mlp_h)\n",
        "print(mlp_h.score(X_test, y_test))"
      ],
      "execution_count": 176,
      "outputs": [
        {
          "output_type": "stream",
          "text": [
            "=====================================================\n",
            "Final decision tree model: \n",
            " DecisionTreeClassifier(ccp_alpha=0.0, class_weight=None, criterion='gini',\n",
            "                       max_depth=3, max_features=None, max_leaf_nodes=100,\n",
            "                       min_impurity_decrease=0.0, min_impurity_split=None,\n",
            "                       min_samples_leaf=1, min_samples_split=2,\n",
            "                       min_weight_fraction_leaf=0.0, presort='deprecated',\n",
            "                       random_state=None, splitter='best')\n",
            "0.7832167832167832\n",
            "=====================================================\n",
            "Final logistic regression model:\n",
            " LogisticRegression(C=100, class_weight=None, dual=False, fit_intercept=True,\n",
            "                   intercept_scaling=1, l1_ratio=None, max_iter=10000,\n",
            "                   multi_class='auto', n_jobs=None, penalty='l2',\n",
            "                   random_state=None, solver='liblinear', tol=0.0001, verbose=0,\n",
            "                   warm_start=False)\n",
            "0.7622377622377622\n",
            "=====================================================\n",
            "Final MLP model:\n",
            " MLPClassifier(activation='relu', alpha=0.0001, batch_size='auto', beta_1=0.9,\n",
            "              beta_2=0.999, early_stopping=False, epsilon=1e-08,\n",
            "              hidden_layer_sizes=(200,), learning_rate='constant',\n",
            "              learning_rate_init=0.001, max_fun=15000, max_iter=10000,\n",
            "              momentum=0.9, n_iter_no_change=10, nesterovs_momentum=True,\n",
            "              power_t=0.5, random_state=None, shuffle=True, solver='adam',\n",
            "              tol=0.0001, validation_fraction=0.1, verbose=False,\n",
            "              warm_start=False)\n",
            "0.7552447552447552\n"
          ],
          "name": "stdout"
        }
      ]
    }
  ]
}